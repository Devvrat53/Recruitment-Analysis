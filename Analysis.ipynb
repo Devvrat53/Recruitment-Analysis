{
 "cells": [
  {
   "cell_type": "code",
   "execution_count": null,
   "metadata": {},
   "outputs": [],
   "source": [
    "import pandas as pd\n",
    "import ast\n",
    "import re \n",
    "import string\n",
    "import tweepy\n",
    "import time\n",
    "import ast\n",
    "from nltk.corpus import stopwords\n",
    "from wordcloud import WordCloud\n",
    "from textblob import TextBlob\n",
    "import seaborn as sns\n",
    "import matplotlib.pyplot as plt\n",
    "pd.set_option('display.max_columns', None)\n",
    "pd.set_option('display.max_rows', None)\n",
    "pd.set_option('display.width', None)\n",
    "pd.set_option('display.max_colwidth', None)"
   ]
  },
  {
   "cell_type": "code",
   "execution_count": null,
   "metadata": {},
   "outputs": [],
   "source": [
    "df = pd.read_excel(\"scraped_tweets.xlsx\")\n",
    "print(df.shape)\n",
    "df.head()"
   ]
  },
  {
   "cell_type": "code",
   "execution_count": null,
   "metadata": {},
   "outputs": [],
   "source": [
    "df.isnull().sum()"
   ]
  },
  {
   "cell_type": "code",
   "execution_count": null,
   "metadata": {},
   "outputs": [],
   "source": [
    "df.dropna(inplace= True, axis= 0)\n",
    "df.isnull().sum()"
   ]
  },
  {
   "cell_type": "code",
   "execution_count": null,
   "metadata": {},
   "outputs": [],
   "source": [
    "# Chekcking for duplicates\n",
    "df.duplicated().sum()"
   ]
  },
  {
   "cell_type": "code",
   "execution_count": null,
   "metadata": {},
   "outputs": [],
   "source": [
    "df[df.duplicated()]"
   ]
  },
  {
   "cell_type": "code",
   "execution_count": null,
   "metadata": {},
   "outputs": [],
   "source": [
    "if df.duplicated().sum() > 0:\n",
    "    df.drop_duplicates(inplace= True)"
   ]
  },
  {
   "cell_type": "code",
   "execution_count": null,
   "metadata": {},
   "outputs": [],
   "source": [
    "df.duplicated().sum()"
   ]
  },
  {
   "cell_type": "code",
   "execution_count": null,
   "metadata": {},
   "outputs": [],
   "source": [
    "df.dtypes"
   ]
  },
  {
   "cell_type": "code",
   "execution_count": null,
   "metadata": {},
   "outputs": [],
   "source": [
    "df.location.value_counts().to_frame()"
   ]
  },
  {
   "cell_type": "code",
   "execution_count": null,
   "metadata": {},
   "outputs": [],
   "source": [
    "df.description.value_counts().to_frame()"
   ]
  },
  {
   "cell_type": "code",
   "execution_count": null,
   "metadata": {},
   "outputs": [],
   "source": [
    "df['location'].replace({'': 'No location'}, inplace= True)\n",
    "df['description'].replace({'': 'No description'}, inplace= True)"
   ]
  },
  {
   "cell_type": "code",
   "execution_count": null,
   "metadata": {},
   "outputs": [],
   "source": [
    "df.location.value_counts()"
   ]
  },
  {
   "cell_type": "code",
   "execution_count": null,
   "metadata": {},
   "outputs": [],
   "source": [
    "no_location = ['127.0.0.1', 'Everywhere', 'Anywhere', 'Global 🌎', 'Earth', 'Nationwide', \n",
    "               'where there are buckets to get', '759 N Lindsay Rd Mesa AZ 85213', 'The Cloud', \n",
    "               'You Go, We\\'ll Protect 👉🏾', 'GJ 357 d', 'Salt Lake City, UT', 'N06 42.5 E00319.6/0 - 37000ft', \n",
    "               'Red Lake ON', 'Bengaluru,Chandigarh,PuneIndia', 'Just vibing.', 'North America', 'she/her', \n",
    "               'Venezuela', 'Madrid, por lo visto.', 'Australia, Asia and Europe', 'Miami | Ft Lauderdale', \n",
    "               'Asia - Middle East', 'post office square, Boston, MA', 'USA, Europe, Japan and India', \n",
    "               'Headquartered in Houston, TX', ' United States, India, EMEA', \n",
    "               'Trenton, NJ - BioNJ@BioNJ.org', 'México DF', 'नोएडा, भारत', 'india', 'Somewhere cold', \n",
    "               'Ciudad de México', 'State of Confusion', 'Ireland | UK', 'The universe', \n",
    "               '17 - N, Main Blvd, Johar Town', '         UK and International', 'SEK', \n",
    "               '23.5K LY from Sagittarius A', 'Florida - Toronto - Pennsylvania', 'Miguel Hidalgo', \n",
    "               '#Asia #hongkong #japan #china #Singapore #Australia', 'Visayas Avenue, Quezon City', \n",
    "               'Monterey, CA; virtual', 'S-26,27, Asopalav Mark,Mehsana', '39.90983294,-104.77876138', \n",
    "               'Ina Di Place', 'Vía Láctea.', 'Cork & Kilkenny #Ireland', '125 W School House Ln, Philade', \n",
    "               'Africa', 'Washington, DC Metro Area', 'Dogecoin Ranch', 'US | India | Singapore', \n",
    "               'London - Dubai - Cape Town', 'UK and Ireland', '26.2389° N, 73.0243° E', 'UK & NI', \n",
    "               'Brussel, België', 'Hopefully In Your Heart', '#SmileAndMove', 'Oxford Circus, London', \n",
    "               'Open to Expat Extraction', 'México, Juárez', 'Alconbury Weald,Cambridgeshire', \n",
    "               'San Francisco/Oakland/San Jose', 'México 🇲🇽', 'Terrassa, Països Catalans', 'Mission Viejo, CA',\n",
    "               'Berlin | London | Milan | Madrid | Paris | Mumbai | Bangalore', 'iPhone: 0.000000,0.000000', \n",
    "               'ÜT: 40.63424,-74.89563', 'Atlanta, GA- Nationwide', '愛知県', 'Tanzania, DRC, Comoro, Burundi', \n",
    "               'UK, Finland, Sweden & Belgium', 'UK, CAN, USA, Aus, NZ and SA', \n",
    "               'Headquartered in Atlanta, GA', 'Distrito Federal, México', 'Protea Glen (Soweto)', \n",
    "               'ParisBrusselsValenciaHamburg', 'Querétaro, Querétaro Arteaga', '0.0.0.0/0', ' I 💙NY USA', \n",
    "               'UK, Europe, Worldwide', 'A island off an island', 'The luminiferous aether', \n",
    "               'Guadalajara, Jalisco', 'Sevilla, España', 'Mission KS', 'not México ☹️', \n",
    "               'Global Home Office 🇬🇧🇳🇬', 'Wordwide', 'USA, India', 'Sydney | Hong Kong | Singapore', \n",
    "               'Kulim Hi-Tech Kedah', 'Vancouver and beyond', 'Lisbon', 'Outbackistan, Australia', \n",
    "               'HathsaarGanj Hajipur', 'www.addastories.org', 'Ижевск, Россия', 'C17H18F3NO', \n",
    "               'A-13/1, South Side G.T. Road Industrial Area, NH-24 By Pass, Ghaziabad, U.P.-201010', ' 👉👉', \n",
    "               'New England, USA', 'World', 'Your heart', '144-80 Barclay Ave, Flushing', \n",
    "               'Dapitan, Zamboanga Peninsula, Philippines', 'DC | SF', 'Kgs.Lyngby, Denmark', \n",
    "               'Here, there & back here again', 'Chile | Mexico', 'Aperture Science Laboratories', 'Wat', 'PA', \n",
    "               'INDIA', 'The Cloudz', 'Around The World', 'Pensacola; Mvskoke land', \n",
    "               'UK, Dubai, Singapore & Brazil', ' Paris, France', 'Level 4, 17-19 Bridge St, Sydney NSW 2000', \n",
    "               'Midgard', 'Bali/IG: @Olumide_Gbenro', 'Ireland, Europe, Global', 'Slata, Doha 55933',\n",
    "               '5 locations / los angeles area', 'UK, USA & Singapore', 'Cloud', 'Dallas - Forth Worth, Texas', \n",
    "               'kolumpo', 'Europa', 'Please, read carrd and pinned.', 'Asia', 'USA & Canada', 'Canada and USA', \n",
    "               'UK, Europe & U.S.', 'Belgaum / Pune', 'Europe', 'Ikeja, Lagos, Nigeria']"
   ]
  },
  {
   "cell_type": "code",
   "execution_count": null,
   "metadata": {},
   "outputs": [],
   "source": [
    "for i in no_location:\n",
    "    j = df[(df['location'] == i)].index\n",
    "    df.drop(j, inplace= True)"
   ]
  },
  {
   "cell_type": "code",
   "execution_count": null,
   "metadata": {},
   "outputs": [],
   "source": [
    "df.shape"
   ]
  },
  {
   "cell_type": "code",
   "execution_count": null,
   "metadata": {},
   "outputs": [],
   "source": [
    "df.location.value_counts()"
   ]
  },
  {
   "cell_type": "code",
   "execution_count": null,
   "metadata": {},
   "outputs": [],
   "source": [
    "!pip install spacy"
   ]
  },
  {
   "cell_type": "code",
   "execution_count": null,
   "metadata": {},
   "outputs": [],
   "source": [
    "import spacy\n",
    "from collections import Counter\n",
    "import en_core_web_sm\n",
    "nlp = en_core_web_sm.load()\n",
    "\n",
    "tokens = nlp(df.location)"
   ]
  },
  {
   "cell_type": "code",
   "execution_count": null,
   "metadata": {},
   "outputs": [],
   "source": []
  }
 ],
 "metadata": {
  "kernelspec": {
   "display_name": "Python 3",
   "language": "python",
   "name": "python3"
  },
  "language_info": {
   "codemirror_mode": {
    "name": "ipython",
    "version": 3
   },
   "file_extension": ".py",
   "mimetype": "text/x-python",
   "name": "python",
   "nbconvert_exporter": "python",
   "pygments_lexer": "ipython3",
   "version": "3.8.5"
  }
 },
 "nbformat": 4,
 "nbformat_minor": 4
}
